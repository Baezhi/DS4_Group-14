{
 "cells": [
  {
   "cell_type": "code",
   "execution_count": null,
   "metadata": {},
   "outputs": [],
   "source": [
    "import pandas as pd\n",
    "import numpy as np\n",
    "import seaborn as sns     \n",
    "import matplotlib.pyplot as plt\n",
    "%matplotlib inline        "
   ]
  },
  {
   "cell_type": "code",
   "execution_count": null,
   "metadata": {},
   "outputs": [],
   "source": [
    "religiousMotifs = pd.read_csv(\"WDB_ReligiousMotif.csv\")\n",
    "meetingPlaces = pd.read_csv(\"WDB_WitchesMeetingPlace.csv\")\n",
    "demonicPacts = pd.read_csv(\"WDB_DemonicPact.csv\")\n",
    "whiteMagic = pd.read_csv(\"WDB_WhiteMagic.csv\")\n",
    "\n",
    "accuseds = pd.read_csv(\"WDB_Accused.csv\")\n",
    "ritualObjects = pd.read_csv(\"WDB_RitualObject.csv\")\n",
    "cases = pd.read_csv(\"WDB_Case.csv\")"
   ]
  },
  {
   "cell_type": "code",
   "execution_count": null,
   "metadata": {},
   "outputs": [],
   "source": [
    "religiousMotifs.drop(['MotifSystemId', 'Createdby',\n",
    "'MotifID', 'Createdate',\n",
    "'Lastupdatedby', 'Lastupdatedon'], axis=1, inplace = True)"
   ]
  },
  {
   "cell_type": "code",
   "execution_count": null,
   "metadata": {},
   "outputs": [],
   "source": [
    "demonicPacts.drop(['DemonicSystemId', 'Createdby',\n",
    "'DemonicID', 'Createdate',\n",
    "'Lastupdatedby', 'Lastupdatedon'], axis=1, inplace = True)"
   ]
  },
  {
   "cell_type": "code",
   "execution_count": null,
   "metadata": {},
   "outputs": [],
   "source": [
    "meetingPlaces.drop(['MeetingPlaceSystemId', 'Createdby',\n",
    "'MeetingPlaceID', 'Createdate',\n",
    "'Lastupdatedby', 'Lastupdatedon'], axis = 1,inplace = True)"
   ]
  },
  {
   "cell_type": "code",
   "execution_count": null,
   "metadata": {},
   "outputs": [],
   "source": [
    "accuseds.drop(['AccusedSystemId', 'Createdby',\n",
    "'AccusedID', 'Createdate',\n",
    "'Lastupdatedby', 'Lastupdatedon','Patronymic',\n",
    "'DesTitle','Age_estcareer',\n",
    "'Age_estchild','Notes',\n",
    "'Res_NGR_Northing','Res_NGR_Easting',\n",
    "'Res_NGR_Letters'], axis=1, inplace = True)"
   ]
  },
  {
   "cell_type": "code",
   "execution_count": null,
   "metadata": {},
   "outputs": [],
   "source": [
    "cases = cases[['CaseRef','AccusedRef','CaseStart_date']]"
   ]
  },
  {
   "cell_type": "code",
   "execution_count": null,
   "metadata": {},
   "outputs": [],
   "source": [
    "witchesData = ritualObjects[['RitualObjectRef','RitualObjectID','CaseRef','RitualObject_Type']]"
   ]
  },
  {
   "cell_type": "code",
   "execution_count": null,
   "metadata": {},
   "outputs": [],
   "source": [
    "#combine witchesData (only have ritualObjects now) and Cases\n",
    "witchesData = witchesData.merge(cases,left_on=\"CaseRef\",right_on=\"CaseRef\",suffixes = (False, False))\n",
    "witchesData"
   ]
  },
  {
   "cell_type": "code",
   "execution_count": null,
   "metadata": {},
   "outputs": [],
   "source": [
    "#count unique ritualObject_type, unique CaseRef, unique AccusedRef\n",
    "print(len(witchesData['RitualObject_Type'].unique()))\n",
    "print(len(witchesData['CaseRef'].unique()))\n",
    "print(len(witchesData['AccusedRef'].unique()))"
   ]
  },
  {
   "cell_type": "code",
   "execution_count": null,
   "metadata": {},
   "outputs": [],
   "source": [
    "#combine witchesData (have ritualObjects & Case) and Accuseds\n",
    "witchesData = accuseds.merge(witchesData,left_on=\"AccusedRef\",right_on=\"AccusedRef\",suffixes = (False, False))\n",
    "witchesData"
   ]
  },
  {
   "cell_type": "code",
   "execution_count": null,
   "metadata": {},
   "outputs": [],
   "source": [
    "witchesData.describe(include = [\"object\"])"
   ]
  },
  {
   "cell_type": "code",
   "execution_count": null,
   "metadata": {},
   "outputs": [],
   "source": [
    "#RitualObject_Type as index, to count it appear times\n",
    "ritualObjectApparesTime = witchesData[['AccusedRef','CaseRef','RitualObject_Type']] \\\n",
    "                                    .groupby('RitualObject_Type') \\\n",
    "                                    .count() \\\n",
    "                                    .sort_values(by = ['AccusedRef'], ascending = False)\n",
    "ritualObjectApparesTime.columns = ['AccusedsNum','CasesNum']\n",
    "ritualObjectApparesTime \n",
    "#AccusedsNum = CasesNum, means exactly one ritual object \n",
    "#only be count once in a case if it appeared in that case"
   ]
  },
  {
   "cell_type": "code",
   "execution_count": null,
   "metadata": {},
   "outputs": [],
   "source": [
    "#count each accused witch used how many ritual object\n",
    "#the top 20 witches (top 20 used the most the number of ritual object)\n",
    "top20_accused = witchesData[['AccusedRef','CaseRef','RitualObject_Type']] \\\n",
    "                                    .groupby(['AccusedRef']) \\\n",
    "                                    .count() \\\n",
    "                                    .sort_values(by = ['RitualObject_Type','CaseRef'], ascending = False) \\\n",
    "                                    .head(20)\n",
    "\n",
    "top20_accused = top20_accused[['RitualObject_Type']]\n",
    "top20_accused.columns = ['RitualObject_Counts']\n",
    "#top20_accused concludes AccusedRef and \"the number of ritual objects that witch used\"\n",
    "top20_accused"
   ]
  },
  {
   "cell_type": "code",
   "execution_count": null,
   "metadata": {},
   "outputs": [],
   "source": [
    "#show each witch used what ritual objects (type)\n",
    "details = witchesData[['AccusedRef','CaseRef','RitualObject_Type']] \\\n",
    "                                    .groupby(['AccusedRef','RitualObject_Type','CaseRef']) \\\n",
    "                                    .count() \\\n",
    "                                    .sort_values(by = ['AccusedRef','RitualObject_Type'], ascending = False)\n",
    "details"
   ]
  }
 ],
 "metadata": {
  "kernelspec": {
   "display_name": "Python 3",
   "language": "python",
   "name": "python3"
  },
  "language_info": {
   "codemirror_mode": {
    "name": "ipython",
    "version": 3
   },
   "file_extension": ".py",
   "mimetype": "text/x-python",
   "name": "python",
   "nbconvert_exporter": "python",
   "pygments_lexer": "ipython3",
   "version": "3.8.3"
  }
 },
 "nbformat": 4,
 "nbformat_minor": 4
}
